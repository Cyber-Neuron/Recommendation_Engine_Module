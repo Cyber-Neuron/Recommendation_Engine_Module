{
 "cells": [
  {
   "cell_type": "code",
   "execution_count": 2,
   "metadata": {},
   "outputs": [],
   "source": [
    "import numpy as np\n",
    "import pandas as pd\n",
    "import recommender as r"
   ]
  },
  {
   "cell_type": "code",
   "execution_count": 6,
   "metadata": {},
   "outputs": [],
   "source": [
    "reviews_test = pd.read_csv('reviews_clean.csv')\n",
    "movies_test = pd.read_csv('movies_clean.csv')\n",
    "reviews_test = reviews_test.iloc[:8000]\n",
    "\n",
    "del movies_test['Unnamed: 0']\n",
    "del reviews_test['Unnamed: 0']"
   ]
  },
  {
   "cell_type": "code",
   "execution_count": null,
   "metadata": {},
   "outputs": [],
   "source": [
    "display(movie_test.head())"
   ]
  },
  {
   "cell_type": "code",
   "execution_count": 9,
   "metadata": {},
   "outputs": [],
   "source": [
    "rec = r.Recommender(df_items=movies_test,\n",
    "                    df_reviews=reviews_test,\n",
    "                    item_name_colname='movie',\n",
    "                    user_id_colname='user_id',\n",
    "                    item_id_colname='movie_id',\n",
    "                    rating_col_name='rating',\n",
    "                    date_col_name='date')"
   ]
  },
  {
   "cell_type": "code",
   "execution_count": 10,
   "metadata": {},
   "outputs": [
    {
     "name": "stdout",
     "output_type": "stream",
     "text": [
      "Create User-Item matrix...\n",
      "Train data with Funk Sigular Value Decomposition...\n",
      "Iterations \t\t Mean Squared Error \n",
      "1 \t\t 10.646673593930489 \n",
      "2 \t\t 4.871862507011609 \n"
     ]
    }
   ],
   "source": [
    "rec.fit(latent_features=12, learning_rate=0.005, iters=2)"
   ]
  },
  {
   "cell_type": "code",
   "execution_count": 11,
   "metadata": {},
   "outputs": [
    {
     "name": "stdout",
     "output_type": "stream",
     "text": [
      "Prediction rate for user 2 and item 68646:\n",
      "Sorry but the prediction cannot be made because either\n",
      "the movie or the user is not present in our database\n",
      "None\n"
     ]
    }
   ],
   "source": [
    "print(\"Prediction rate for user 2 and item 68646:\")\n",
    "print(rec.predict_rating(2, 68646))"
   ]
  },
  {
   "cell_type": "code",
   "execution_count": 13,
   "metadata": {},
   "outputs": [
    {
     "name": "stdout",
     "output_type": "stream",
     "text": [
      "prepare dot matrice for recommendations...\n",
      "DONE!\n"
     ]
    }
   ],
   "source": [
    "print('prepare dot matrice for recommendations...')\n",
    "def prep_get_similar_items():\n",
    "    item_content = np.array(movies_test.iloc[:,4:])\n",
    "    item_content_transpose = np.transpose(item_content)\n",
    "    dot_prod = item_content.dot(item_content_transpose)\n",
    "    return dot_prod\n",
    "\n",
    "dot_product_matrix = prep_get_similar_items()\n",
    "print('DONE!')"
   ]
  },
  {
   "cell_type": "code",
   "execution_count": 16,
   "metadata": {},
   "outputs": [
    {
     "name": "stdout",
     "output_type": "stream",
     "text": [
      "Glad to see you again! recommended for you:\n",
      "\n",
      "The Godfather (1972)\n",
      "The Lord of the Rings: The Return of the King (2003)\n",
      "The Perks of Being a Wallflower (2012)\n",
      "The Imitation Game (2014)\n",
      "Predestination (2014)\n"
     ]
    }
   ],
   "source": [
    "rec_ids, rec_names, message = rec.make_recommendations(_id=10,\n",
    "                                                       dot_prod=dot_product_matrix,\n",
    "                                                       _id_type='user',\n",
    "                                                       rec_num=5)\n",
    "print(message)\n",
    "for i in rec_names:\n",
    "    print(i)"
   ]
  },
  {
   "cell_type": "code",
   "execution_count": null,
   "metadata": {},
   "outputs": [],
   "source": []
  }
 ],
 "metadata": {
  "kernelspec": {
   "display_name": "Python 3",
   "language": "python",
   "name": "python3"
  },
  "language_info": {
   "codemirror_mode": {
    "name": "ipython",
    "version": 3
   },
   "file_extension": ".py",
   "mimetype": "text/x-python",
   "name": "python",
   "nbconvert_exporter": "python",
   "pygments_lexer": "ipython3",
   "version": "3.6.7"
  }
 },
 "nbformat": 4,
 "nbformat_minor": 2
}
