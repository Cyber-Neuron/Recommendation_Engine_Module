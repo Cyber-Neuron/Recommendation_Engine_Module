{
 "cells": [
  {
   "cell_type": "code",
   "execution_count": 2,
   "metadata": {},
   "outputs": [],
   "source": [
    "import numpy as np\n",
    "import pandas as pd\n",
    "import recommender as r\n",
    "from sklearn.externals import joblib"
   ]
  },
  {
   "cell_type": "code",
   "execution_count": 3,
   "metadata": {},
   "outputs": [],
   "source": [
    "reviews_test = pd.read_csv('reviews_clean.csv')\n",
    "movies_test = pd.read_csv('movies_clean.csv')\n",
    "\n",
    "del movies_test['Unnamed: 0']\n",
    "del reviews_test['Unnamed: 0']"
   ]
  },
  {
   "cell_type": "code",
   "execution_count": 3,
   "metadata": {},
   "outputs": [],
   "source": [
    "rec = r.Recommender(df_items=movies_test,\n",
    "                    df_reviews=reviews_test,\n",
    "                    item_name_colname='movie',\n",
    "                    user_id_colname='user_id',\n",
    "                    item_id_colname='movie_id',\n",
    "                    rating_col_name='rating',\n",
    "                    date_col_name='date')"
   ]
  },
  {
   "cell_type": "code",
   "execution_count": 6,
   "metadata": {},
   "outputs": [
    {
     "name": "stdout",
     "output_type": "stream",
     "text": [
      "Create User-Item matrix...\n",
      "Train data with Funk Sigular Value Decomposition...\n",
      "Iterations \t\t Mean Squared Error \n",
      "1 \t\t 16.840854250588343 \n"
     ]
    }
   ],
   "source": [
    "rec.fit(iters=1)"
   ]
  },
  {
   "cell_type": "markdown",
   "metadata": {},
   "source": [
    "##### Save object"
   ]
  },
  {
   "cell_type": "code",
   "execution_count": 15,
   "metadata": {},
   "outputs": [
    {
     "data": {
      "text/plain": [
       "['recom_engine.joblib.dat']"
      ]
     },
     "execution_count": 15,
     "metadata": {},
     "output_type": "execute_result"
    }
   ],
   "source": [
    "joblib.dump(rec, \"recom_engine.joblib.dat\")"
   ]
  },
  {
   "cell_type": "markdown",
   "metadata": {},
   "source": [
    "****\n",
    "#### Recommendations\n",
    "\n",
    "##### Load object"
   ]
  },
  {
   "cell_type": "code",
   "execution_count": 4,
   "metadata": {},
   "outputs": [],
   "source": [
    "rec_loaded = joblib.load(\"recom_engine.joblib.dat\")"
   ]
  },
  {
   "cell_type": "code",
   "execution_count": 5,
   "metadata": {},
   "outputs": [
    {
     "name": "stdout",
     "output_type": "stream",
     "text": [
      "prepare dot matrice for recommendations...\n",
      "Ok\n"
     ]
    }
   ],
   "source": [
    "print('prepare dot matrice for recommendations...')\n",
    "def prep_get_similar_items():\n",
    "    item_content = np.array(movies_test.iloc[:,4:])\n",
    "    item_content_transpose = np.transpose(item_content)\n",
    "    dot_prod = item_content.dot(item_content_transpose)\n",
    "    return dot_prod\n",
    "\n",
    "dot_product_matrix = prep_get_similar_items()\n",
    "print('Ok')"
   ]
  },
  {
   "cell_type": "code",
   "execution_count": 6,
   "metadata": {},
   "outputs": [],
   "source": [
    "def display_recommendations(rec_ids, rec_names, message):\n",
    "    dict_id_name = dict(zip(rec_ids, rec_names))\n",
    "\n",
    "    print(f\"{message}\")\n",
    "\n",
    "    for key, val  in dict_id_name.items():\n",
    "        print(f\"ID items: {key}\")\n",
    "        print(f\"Name: {val}\\n\")"
   ]
  },
  {
   "cell_type": "markdown",
   "metadata": {},
   "source": [
    "##### Example recommendations for user present in the database"
   ]
  },
  {
   "cell_type": "code",
   "execution_count": 7,
   "metadata": {},
   "outputs": [
    {
     "name": "stdout",
     "output_type": "stream",
     "text": [
      "Glad to see you again! recommended for you:\n",
      "\n",
      "ID items: 816692\n",
      "Name: Interstellar (2014)\n",
      "\n",
      "ID items: 993846\n",
      "Name: The Wolf of Wall Street (2013)\n",
      "\n",
      "ID items: 1454468\n",
      "Name: Gravity (2013)\n",
      "\n",
      "ID items: 2024544\n",
      "Name: 12 Years a Slave (2013)\n",
      "\n",
      "ID items: 2267998\n",
      "Name: Gone Girl (2014)\n",
      "\n"
     ]
    }
   ],
   "source": [
    "rec_ids, rec_names, message = rec_loaded.make_recommendations(_id=10,\n",
    "                                                              dot_prod=dot_product_matrix,\n",
    "                                                              _id_type='user',\n",
    "                                                              rec_num=5)\n",
    "display_recommendations(rec_ids, rec_names, message)"
   ]
  },
  {
   "cell_type": "markdown",
   "metadata": {},
   "source": [
    "##### Example recommendations for user not present in the database"
   ]
  },
  {
   "cell_type": "code",
   "execution_count": 8,
   "metadata": {},
   "outputs": [
    {
     "name": "stdout",
     "output_type": "stream",
     "text": [
      "Hey, you are new here, this is for you:\n",
      "\n",
      "ID items: 4921860\n",
      "Name: Crawl Bitch Crawl (2012)\n",
      "\n",
      "ID items: 5262972\n",
      "Name: Quiet Riot: Well Now You're Here, There's No Way Back (2014)\n",
      "\n",
      "ID items: 2737018\n",
      "Name: Selam (2013)\n",
      "\n",
      "ID items: 2560840\n",
      "Name: MSG 2 the Messenger (2015)\n",
      "\n",
      "ID items: 2219210\n",
      "Name: Avengers: Age of Ultron Parody (2015)\n",
      "\n"
     ]
    }
   ],
   "source": [
    "rec_ids, rec_names, message = rec_loaded.make_recommendations(_id=187687736730,\n",
    "                                                              dot_prod=dot_product_matrix,\n",
    "                                                              _id_type='user',\n",
    "                                                              rec_num=5)\n",
    "display_recommendations(rec_ids, rec_names, message)"
   ]
  },
  {
   "cell_type": "markdown",
   "metadata": {},
   "source": [
    "##### Example recommendations for movies present in the database"
   ]
  },
  {
   "cell_type": "code",
   "execution_count": 9,
   "metadata": {},
   "outputs": [
    {
     "name": "stdout",
     "output_type": "stream",
     "text": [
      "Similar items for id:417, corresponding to Le voyage dans la lune (1902):\n",
      "\n",
      "ID items: 417\n",
      "Name: Le voyage dans la lune (1902)\n",
      "\n",
      "ID items: 130508\n",
      "Name: Black Angel (1980)\n",
      "\n",
      "ID items: 764648\n",
      "Name: Indiana Jones and the Temple of the Forbidden Eye (1995)\n",
      "\n"
     ]
    }
   ],
   "source": [
    "rec_ids, rec_names, message = rec_loaded.make_recommendations(_id=417,\n",
    "                                                              dot_prod=dot_product_matrix,\n",
    "                                                              _id_type='movie',\n",
    "                                                              rec_num=5)\n",
    "display_recommendations(rec_ids, rec_names, message)"
   ]
  },
  {
   "cell_type": "markdown",
   "metadata": {},
   "source": [
    "##### Example recommendations for movies present in the database"
   ]
  },
  {
   "cell_type": "code",
   "execution_count": 10,
   "metadata": {},
   "outputs": [
    {
     "name": "stdout",
     "output_type": "stream",
     "text": [
      "We can't make recommendation for this item, please makesure the data was updated with this item.\n",
      "\n"
     ]
    }
   ],
   "source": [
    "rec_ids, rec_names, message = rec_loaded.make_recommendations(_id=837638393639,\n",
    "                                                              dot_prod=dot_product_matrix,\n",
    "                                                              _id_type='movie',\n",
    "                                                              rec_num=5)\n",
    "print(message)"
   ]
  }
 ],
 "metadata": {
  "kernelspec": {
   "display_name": "Python 3",
   "language": "python",
   "name": "python3"
  },
  "language_info": {
   "codemirror_mode": {
    "name": "ipython",
    "version": 3
   },
   "file_extension": ".py",
   "mimetype": "text/x-python",
   "name": "python",
   "nbconvert_exporter": "python",
   "pygments_lexer": "ipython3",
   "version": "3.6.7"
  }
 },
 "nbformat": 4,
 "nbformat_minor": 2
}
