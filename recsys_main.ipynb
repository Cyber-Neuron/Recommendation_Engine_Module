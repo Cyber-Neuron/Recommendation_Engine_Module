{
 "cells": [
  {
   "cell_type": "code",
   "execution_count": 1,
   "metadata": {},
   "outputs": [],
   "source": [
    "import numpy as np\n",
    "import pandas as pd\n",
    "import recommender as r\n",
    "from sklearn.externals import joblib"
   ]
  },
  {
   "cell_type": "code",
   "execution_count": 2,
   "metadata": {},
   "outputs": [],
   "source": [
    "reviews_test = pd.read_csv('reviews_clean.csv')\n",
    "movies_test = pd.read_csv('movies_clean.csv')\n",
    "\n",
    "del movies_test['Unnamed: 0']\n",
    "del reviews_test['Unnamed: 0']"
   ]
  },
  {
   "cell_type": "code",
   "execution_count": 3,
   "metadata": {},
   "outputs": [],
   "source": [
    "rec = r.Recommender(df_items=movies_test,\n",
    "                    df_reviews=reviews_test,\n",
    "                    item_name_colname='movie',\n",
    "                    user_id_colname='user_id',\n",
    "                    item_id_colname='movie_id',\n",
    "                    rating_col_name='rating',\n",
    "                    date_col_name='date')"
   ]
  },
  {
   "cell_type": "code",
   "execution_count": 6,
   "metadata": {},
   "outputs": [
    {
     "name": "stdout",
     "output_type": "stream",
     "text": [
      "Create User-Item matrix...\n",
      "Train data with Funk Sigular Value Decomposition...\n",
      "Iterations \t\t Mean Squared Error \n",
      "1 \t\t 16.840854250588343 \n"
     ]
    }
   ],
   "source": [
    "rec.fit(iters=1)"
   ]
  },
  {
   "cell_type": "markdown",
   "metadata": {},
   "source": [
    "##### Save object"
   ]
  },
  {
   "cell_type": "code",
   "execution_count": 15,
   "metadata": {},
   "outputs": [
    {
     "data": {
      "text/plain": [
       "['recom_engine.joblib.dat']"
      ]
     },
     "execution_count": 15,
     "metadata": {},
     "output_type": "execute_result"
    }
   ],
   "source": [
    "joblib.dump(rec, \"recom_engine.joblib.dat\")"
   ]
  },
  {
   "cell_type": "markdown",
   "metadata": {},
   "source": [
    "### la fonction predict est à utiliser avec une fonction de validation afin d'évaluer la qualité de notre matrice U et V construite à partir de FunkSVD servant à faire des recommendations pour nos clients et items existants"
   ]
  },
  {
   "cell_type": "markdown",
   "metadata": {},
   "source": [
    "****\n",
    "#### Recommendations\n",
    "\n",
    "##### Load object"
   ]
  },
  {
   "cell_type": "code",
   "execution_count": 3,
   "metadata": {},
   "outputs": [],
   "source": [
    "rec_loaded = joblib.load(\"recom_engine.joblib.dat\")"
   ]
  },
  {
   "cell_type": "code",
   "execution_count": 4,
   "metadata": {},
   "outputs": [
    {
     "name": "stdout",
     "output_type": "stream",
     "text": [
      "test of the predict method, used in make_recommendations():\n"
     ]
    },
    {
     "data": {
      "text/plain": [
       "3.411583221105235"
      ]
     },
     "execution_count": 4,
     "metadata": {},
     "output_type": "execute_result"
    }
   ],
   "source": [
    "print(\"test of the predict method, used in make_recommendations():\")\n",
    "pred_rate = rec_loaded.predict_rating(user_id=8, item_id=2844)\n",
    "pred_rate"
   ]
  },
  {
   "cell_type": "code",
   "execution_count": 5,
   "metadata": {},
   "outputs": [
    {
     "name": "stdout",
     "output_type": "stream",
     "text": [
      "prepare dot matrice for recommendations...\n",
      "Ok\n"
     ]
    }
   ],
   "source": [
    "print('prepare dot matrice for recommendations...')\n",
    "def prep_get_similar_items():\n",
    "    item_content = np.array(movies_test.iloc[:,4:])\n",
    "    item_content_transpose = np.transpose(item_content)\n",
    "    dot_prod = item_content.dot(item_content_transpose)\n",
    "    return dot_prod\n",
    "\n",
    "dot_product_matrix = prep_get_similar_items()\n",
    "print('Ok')"
   ]
  },
  {
   "cell_type": "code",
   "execution_count": 8,
   "metadata": {},
   "outputs": [
    {
     "name": "stdout",
     "output_type": "stream",
     "text": [
      "We can't make recommendation for this item,\n",
      "Please make sure the data was updated with this item\n"
     ]
    }
   ],
   "source": [
    "rec_ids, rec_names, message = rec_loaded.make_recommendations(_id=876665765,\n",
    "                                                              dot_prod=dot_product_matrix,\n",
    "                                                              _id_type='movie',\n",
    "                                                              rec_num=5)"
   ]
  },
  {
   "cell_type": "code",
   "execution_count": null,
   "metadata": {},
   "outputs": [],
   "source": []
  },
  {
   "cell_type": "code",
   "execution_count": null,
   "metadata": {},
   "outputs": [],
   "source": []
  }
 ],
 "metadata": {
  "kernelspec": {
   "display_name": "Python 3",
   "language": "python",
   "name": "python3"
  },
  "language_info": {
   "codemirror_mode": {
    "name": "ipython",
    "version": 3
   },
   "file_extension": ".py",
   "mimetype": "text/x-python",
   "name": "python",
   "nbconvert_exporter": "python",
   "pygments_lexer": "ipython3",
   "version": "3.6.7"
  }
 },
 "nbformat": 4,
 "nbformat_minor": 2
}
